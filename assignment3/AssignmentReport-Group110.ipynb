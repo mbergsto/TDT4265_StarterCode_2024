{
 "cells": [
  {
   "cell_type": "markdown",
   "metadata": {},
   "source": [
    "# Assignment 1 Report"
   ]
  },
  {
   "cell_type": "markdown",
   "metadata": {},
   "source": [
    "This is an outline for your report to ease the amount of work required to create your report. Jupyter notebook supports markdown, and I recommend you to check out this [cheat sheet](https://github.com/adam-p/markdown-here/wiki/Markdown-Cheatsheet). If you are not familiar with markdown.\n",
    "\n",
    "Before delivery, **remember to convert this file to PDF**. You can do it in two ways:\n",
    "1. Print the webpage (ctrl+P or cmd+P)\n",
    "2. Export with latex. This is somewhat more difficult, but you'll get somehwat of a \"prettier\" PDF. Go to File -> Download as -> PDF via LaTeX. You might have to install nbconvert and pandoc through conda; `conda install nbconvert pandoc`."
   ]
  },
  {
   "cell_type": "markdown",
   "metadata": {},
   "source": [
    "# Task 1"
   ]
  },
  {
   "cell_type": "markdown",
   "metadata": {},
   "source": [
    "## task 1a)\n",
    "\n",
    "![](Images/Task1a-1.jpg)\n",
    "![](Images/Task1a-2.jpg)\n",
    "![](Images/Task1a-3.jpeg)"
   ]
  },
  {
   "cell_type": "markdown",
   "metadata": {},
   "source": [
    "## task 1b)\n",
    "Answer is:\n",
    "(iii) Max Pooling reduces the sensitivity to translational variations in the input by choosing the maximum value of a small region, thereby making the output invariant to small shifts and distortions.\n",
    "\n",
    "## task 1c)\n",
    "\n",
    "![](Images/Task1c.jpeg)\n",
    "\n",
    "\n",
    "## task 1d)\n",
    "\n",
    "![](Images/Task1d.jpeg)\n",
    "\n",
    "## task 1e)\n",
    "\n",
    "![](Images/Task1e.jpeg)\n",
    "## task 1f)\n",
    "\n",
    "![](Images/Task1f.jpeg)\n",
    "## task 1g)\n",
    "\n",
    "![](Images/Task1g-1.jpg)\n",
    "![](Images/Task1g-2.jpg)\n",
    "![](Images/Task1g-3.jpg)"
   ]
  },
  {
   "cell_type": "markdown",
   "metadata": {},
   "source": [
    "# Task 2\n",
    "\n",
    "### Task 2a)\n",
    "\n",
    "### Task 2b)\n",
    "\n",
    "Epoch: 0, Batches per seconds: 278.71, Global step:    351, Validation Loss: 1.71, Validation Accuracy: 0.375\\\n",
    "Epoch: 0, Batches per seconds: 258.48, Global step:    702, Validation Loss: 1.38, Validation Accuracy: 0.502\\\n",
    "Epoch: 1, Batches per seconds: 254.40, Global step:   1053, Validation Loss: 1.33, Validation Accuracy: 0.503\\\n",
    "Epoch: 1, Batches per seconds: 256.43, Global step:   1404, Validation Loss: 1.24, Validation Accuracy: 0.564\\\n",
    "Epoch: 2, Batches per seconds: 253.93, Global step:   1755, Validation Loss: 1.09, Validation Accuracy: 0.612\\\n",
    "Epoch: 2, Batches per seconds: 254.71, Global step:   2106, Validation Loss: 0.97, Validation Accuracy: 0.660\\\n",
    "Epoch: 3, Batches per seconds: 254.61, Global step:   2457, Validation Loss: 0.90, Validation Accuracy: 0.683\\\n",
    "Epoch: 3, Batches per seconds: 256.22, Global step:   2808, Validation Loss: 0.99, Validation Accuracy: 0.645\\\n",
    "Epoch: 4, Batches per seconds: 257.73, Global step:   3159, Validation Loss: 0.86, Validation Accuracy: 0.701\\\n",
    "Epoch: 4, Batches per seconds: 258.32, Global step:   3510, Validation Loss: 0.83, Validation Accuracy: 0.710\\\n",
    "Epoch: 5, Batches per seconds: 257.61, Global step:   3861, Validation Loss: 0.81, Validation Accuracy: 0.719\\\n",
    "Epoch: 5, Batches per seconds: 258.77, Global step:   4212, Validation Loss: 0.78, Validation Accuracy: 0.733\\\n",
    "Epoch: 6, Batches per seconds: 257.56, Global step:   4563, Validation Loss: 0.79, Validation Accuracy: 0.734\\\n",
    "Epoch: 6, Batches per seconds: 260.10, Global step:   4914, Validation Loss: 0.82, Validation Accuracy: 0.733\\\n",
    "Epoch: 7, Batches per seconds: 260.24, Global step:   5265, Validation Loss: 0.79, Validation Accuracy: 0.736\\\n",
    "Early stop criteria met\\\n",
    "Early stopping.\\\n",
    "\n",
    "![](../plots/task2_plot.png)\n"
   ]
  },
  {
   "cell_type": "markdown",
   "metadata": {},
   "source": [
    "# Task 3"
   ]
  },
  {
   "cell_type": "markdown",
   "metadata": {},
   "source": [
    "### Task 3a)\n",
    "### Task 3b)\n",
    "### Task 3c)\n",
    "### Task 3d)\n",
    "### Task 3e)\n",
    "### Task 3f)"
   ]
  },
  {
   "cell_type": "markdown",
   "metadata": {},
   "source": [
    "# Task 4"
   ]
  },
  {
   "cell_type": "markdown",
   "metadata": {},
   "source": [
    "## Task 4a)\n",
    "\n",
    "FILL IN ANSWER. "
   ]
  },
  {
   "cell_type": "markdown",
   "metadata": {},
   "source": [
    "## Task 4b)\n",
    "FILL IN ANSWER\n"
   ]
  },
  {
   "cell_type": "markdown",
   "metadata": {},
   "source": [
    "## Task 4c)\n",
    "FILL IN ANSWER"
   ]
  }
 ],
 "metadata": {
  "kernelspec": {
   "display_name": "Python 3.8.1 64-bit ('py38': conda)",
   "language": "python",
   "name": "python38164bitpy38condac1f68ca5407a4349b0d7e37676f2fbb3"
  },
  "language_info": {
   "codemirror_mode": {
    "name": "ipython",
    "version": 3
   },
   "file_extension": ".py",
   "mimetype": "text/x-python",
   "name": "python",
   "nbconvert_exporter": "python",
   "pygments_lexer": "ipython3",
   "version": "3.8.1"
  }
 },
 "nbformat": 4,
 "nbformat_minor": 4
}
